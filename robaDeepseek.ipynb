{
 "cells": [
  {
   "cell_type": "markdown",
   "id": "7ab17ad5",
   "metadata": {},
   "source": []
  },
  {
   "cell_type": "code",
   "execution_count": 1,
   "id": "a9af48df",
   "metadata": {},
   "outputs": [],
   "source": [
    "import pandas as pd\n",
    "\n",
    "data = [\n",
    "    # Informativa (1): Dettagli specifici su servizio, prezzi, confronti\n",
    "    {\n",
    "        \"review\": \"Contrary to other reviews, I have zero complaints about the service or the prices. I have been getting tire service here for the past 5 years now, and compared to my experience with places like Pep Boys, these guys are experienced and know what they're doing. Also, this is one place that I do not feel like I am being taken advantage of, just because of my gender. Other auto mechanics have been notorious for capitalizing on my ignorance of cars, and have sucked my bank account dry. But here, my service and road coverage has all been well explained - and let up to me to decide. And they just renovated the waiting room. It looks a lot better than it did in previous years.\",\n",
    "        \"is_informative\": 1\n",
    "    },\n",
    "    \n",
    "    # Informativa (1): Dettagli specifici su esperienza, problemi tecnici\n",
    "    {\n",
    "        \"review\": \"Last summer I had an appointment to get new tires and had to wait a super long time. I also went in this week for them to fix a minor problem with a tire they put on. They 'fixed' it for free, and the very next morning I had the same issue. I called to complain, and the 'manager' didn't even apologize!!!\",\n",
    "        \"is_informative\": 1\n",
    "    },\n",
    "    \n",
    "    # Non Informativa (0): Commento generico senza dettagli\n",
    "    {\n",
    "        \"review\": \"Friendly staff, same starbucks fair you get anywhere else. Sometimes the lines can get long.\",\n",
    "        \"is_informative\": 0\n",
    "    },\n",
    "    \n",
    "    # Informativa (1): Analisi dettagliata di problemi di servizio\n",
    "    {\n",
    "        \"review\": \"The food is good. Unfortunately the service is very hit or miss. The main issue seems to be with the kitchen, the waiters and waitresses are often very apologetic for the long waits and it's pretty obvious that some of them avoid the tables after taking the initial order to avoid hearing complaints.\",\n",
    "        \"is_informative\": 1\n",
    "    },\n",
    "    \n",
    "    # Informativa (1): Confronto dettagliato con altri negozi, prezzi\n",
    "    {\n",
    "        \"review\": \"Even when we didn't have a car Filene's Basement was worth the bus trip to the Waterfront. I always find something (usually I find 3-4 things and spend about $60) and better still, I am always still wearing the clothes and shoes 3 months later. I kind of suspect this is the best shopping in Pittsburgh; it's much better than the usual department stores, better than Marshall's and TJ Maxx and better than the Saks downtown, even when it has a sale.\",\n",
    "        \"is_informative\": 1\n",
    "    },\n",
    "    \n",
    "    # Non Informativa (0): Descrizione generica dell'esperienza\n",
    "    {\n",
    "        \"review\": \"Picture Billy Joel's 'Piano Man' DOUBLED mixed with beer, a rowdy crowd, and comedy - Welcome to Sing Sing! A unique musical experience found in Homestead.\",\n",
    "        \"is_informative\": 0\n",
    "    },\n",
    "    \n",
    "    # Non Informativa (0): Lamentele generiche senza dettagli specifici\n",
    "    {\n",
    "        \"review\": \"Mediocre service. COLD food! Our food waited so long the lettuce & pickles wilted. Bland food. Crazy overpriced. Long waits in the arcade. 1 beer per hour maximum. Avoid at all costs.\",\n",
    "        \"is_informative\": 0\n",
    "    },\n",
    "    \n",
    "    # Informativa (1): Descrizione dettagliata di problemi specifici\n",
    "    {\n",
    "        \"review\": \"I stood there for about 5 minutes, which for a busy bar is fine but when I am the only one with my card out then, it just seems a little ridiculous. I made eye contact with the one girl twice and gave her a smile and she literally turned away. I finally had to walk to them to get their attention. The other bartender brought food over and set it down. She took a fry from the plate (right in front of me) and then served it to someone on the other side of the bar.\",\n",
    "        \"is_informative\": 1\n",
    "    },\n",
    "    \n",
    "    # Informativa (1): Confronto temporale con dettagli specifici\n",
    "    {\n",
    "        \"review\": \"I used to love D&B when it first opened in the Waterfront, but it has gone down hill over the years. The games are not as fun and do not give you as many tickets and the prizes have gotten cheaper in quality. It takes a whole heck of a lot of tickets for you to even get a pencil! Last time I went, back in the winter, many of the games were broken.\",\n",
    "        \"is_informative\": 1\n",
    "    },\n",
    "    \n",
    "    # Non Informativa (0): Commento generale senza dettagli\n",
    "    {\n",
    "        \"review\": \"Like any Barnes & Noble, it has a nice comfy cafe, and a large selection of books. The staff is very friendly and helpful.\",\n",
    "        \"is_informative\": 0\n",
    "    },\n",
    "    \n",
    "    # Non Informativa (0): Opinione soggettiva senza spiegazioni\n",
    "    {\n",
    "        \"review\": \"Meh, I've experienced better is an understatement. Friday's is like the 'fine dining chain' for every yinzer in Pittsburgh... Never again will I eat at Friday's.\",\n",
    "        \"is_informative\": 0\n",
    "    },\n",
    "    \n",
    "    # Informativa (1): Dettagli su qualità cibo, esperienza specifica\n",
    "    {\n",
    "        \"review\": \"I ordered the turkey burger with pickle and mustard. Loaded mashed potato on the side. Food came. My burger had lettuce on it only. The loaded potatoes were more like rubber than potatoes. The waitress then went into oblivion and only returned with our check.\",\n",
    "        \"is_informative\": 1\n",
    "    },\n",
    "    \n",
    "    # Informativa (1): Dettagli specifici su menu e esperienza\n",
    "    {\n",
    "        \"review\": \"They have the best chicken salad wrap ever! I made him call a cab and we took a taxi back. Listen... The food and pizza and service are very good, surprisingly so! I don't know why this place is not busier.\",\n",
    "        \"is_informative\": 1\n",
    "    },\n",
    "    \n",
    "    # Non Informativa (0): Commenti emotivi senza dettagli\n",
    "    {\n",
    "        \"review\": \"Stars are for the food only. Got there at 8pm on Saturday night, they told us it was an hour wait. I think we will travel elsewhere.\",\n",
    "        \"is_informative\": 0\n",
    "    },\n",
    "    \n",
    "    # Informativa (1): Analisi dettagliata di piatti specifici\n",
    "    {\n",
    "        \"review\": \"Started with the lettuce wraps - used to be a fan but bore me now. I had the Singapore rice noodles - so so. The fried rice was disappointing and the vegetables tasted raw. Good notes: Dynamite shrimp, plump, juicy, tangy with a small kick. Sweet and sour chicken was same minus kick.\",\n",
    "        \"is_informative\": 1\n",
    "    },\n",
    "    \n",
    "    # Non Informativa (0): Descrizione generica\n",
    "    {\n",
    "        \"review\": \"Good quality pork fried dumpling and mongo beef. Bar service was fast and Efficient. Good value.\",\n",
    "        \"is_informative\": 0\n",
    "    },\n",
    "    \n",
    "    # Informativa (1): Dettagli specifici su problema prodotto\n",
    "    {\n",
    "        \"review\": \"Very bad purchase experience. I bought a shirt with a hole covered in the rolled up sleeves, but they denied my request to return it.\",\n",
    "        \"is_informative\": 1\n",
    "    },\n",
    "    \n",
    "    # Informativa (1): Analisi tecnica dettagliata con prezzi\n",
    "    {\n",
    "        \"review\": \"At BBB I was charged $250 for a tune up: installing a sew-up tire ($50), swapping shifter ($20), installing new bar tape ($20 for tape + $20 install). SO WHAT'S WITH $140 FOR A TUNE UP? The mechanic did a good job shifting and tape looks great.\",\n",
    "        \"is_informative\": 1\n",
    "    },\n",
    "    \n",
    "    # Non Informativa (0): Reclamo generico\n",
    "    {\n",
    "        \"review\": \"My orders have come out bad every time. Chicken nuggets under par. Fries inconsistent. Last experience last straw - Chicken Ranch Club had no chicken!\",\n",
    "        \"is_informative\": 0\n",
    "    },\n",
    "    \n",
    "    # Informativa (1): Confronto dettagliato con esperienza precedente\n",
    "    {\n",
    "        \"review\": \"Hands down, this was the worst Chinese we've ever had. Cold, tough, congealed, tasteless. Complaints fell on deaf ears. They said they'd have to speak with the owner. We're a family of 7 and won't be returning.\",\n",
    "        \"is_informative\": 1\n",
    "    }\n",
    "]\n",
    "\n"
   ]
  },
  {
   "cell_type": "code",
   "execution_count": 2,
   "id": "1405e5b2",
   "metadata": {},
   "outputs": [],
   "source": [
    "df = pd.DataFrame(data)\n",
    "df.to_csv(\"labeled_reviews.csv\", index=False)"
   ]
  },
  {
   "cell_type": "markdown",
   "id": "e1cf4f04",
   "metadata": {},
   "source": [
    "Codice completo per addestramento"
   ]
  },
  {
   "cell_type": "code",
   "execution_count": 3,
   "id": "0b806545",
   "metadata": {},
   "outputs": [
    {
     "name": "stderr",
     "output_type": "stream",
     "text": [
      "c:\\Users\\misae\\anaconda3\\envs\\webProject\\Lib\\site-packages\\tqdm\\auto.py:21: TqdmWarning: IProgress not found. Please update jupyter and ipywidgets. See https://ipywidgets.readthedocs.io/en/stable/user_install.html\n",
      "  from .autonotebook import tqdm as notebook_tqdm\n",
      "Some weights of DistilBertForSequenceClassification were not initialized from the model checkpoint at distilbert-base-uncased and are newly initialized: ['classifier.bias', 'classifier.weight', 'pre_classifier.bias', 'pre_classifier.weight']\n",
      "You should probably TRAIN this model on a down-stream task to be able to use it for predictions and inference.\n"
     ]
    }
   ],
   "source": [
    "import pandas as pd\n",
    "from sklearn.model_selection import train_test_split\n",
    "from transformers import DistilBertTokenizerFast, DistilBertForSequenceClassification\n",
    "from transformers import Trainer, TrainingArguments\n",
    "import torch\n",
    "\n",
    "\n",
    "df = pd.read_csv(\"labeled_reviews.csv\")\n",
    "texts = df[\"review\"].tolist()\n",
    "labels = df[\"is_informative\"].tolist()\n",
    "\n",
    "\n",
    "train_text, val_text, train_labels, val_labels = train_test_split(\n",
    "    texts, labels, test_size=0.2, random_state=42\n",
    ")\n",
    "\n",
    "\n",
    "tokenizer = DistilBertTokenizerFast.from_pretrained(\"distilbert-base-uncased\")\n",
    "\n",
    "train_encodings = tokenizer(train_text, truncation = True, padding = True, max_length = 256)\n",
    "val_encodings = tokenizer(val_text, truncation = True, padding = True, max_length = 256)\n",
    "\n",
    "class ReviewDataset(torch.utils.data.Dataset):\n",
    "    def __init__(self, encodings, labels):\n",
    "        self.encodings = encodings\n",
    "        self.labels = labels\n",
    "\n",
    "    def __getitem__(self, idx):\n",
    "        item = {key: torch.tensor(val[idx]) for key, val in self.encodings.items()}\n",
    "        item['labels'] = torch.tensor(self.labels[idx])\n",
    "        return item\n",
    "\n",
    "    def __len__(self):\n",
    "        return len(self.labels)\n",
    "\n",
    "\n",
    "# Questi vanno fuori dalla classe!\n",
    "train_dataset = ReviewDataset(train_encodings, train_labels)\n",
    "val_dataset = ReviewDataset(val_encodings, val_labels)\n",
    "\n",
    "model = DistilBertForSequenceClassification.from_pretrained(\n",
    "    \"distilbert-base-uncased\",  # anche qui: \"-\" non \".\"\n",
    "    num_labels=2\n",
    ")\n",
    "\n",
    "\n",
    "    "
   ]
  },
  {
   "cell_type": "code",
   "execution_count": 4,
   "id": "9dfd5002",
   "metadata": {},
   "outputs": [
    {
     "name": "stdout",
     "output_type": "stream",
     "text": [
      "Transformers version: 4.53.1\n",
      "TrainingArguments source: transformers.training_args\n",
      "TrainingArguments class: <class 'transformers.training_args.TrainingArguments'>\n"
     ]
    }
   ],
   "source": [
    "import transformers\n",
    "from transformers import TrainingArguments\n",
    "\n",
    "print(\"Transformers version:\", transformers.__version__)\n",
    "print(\"TrainingArguments source:\", TrainingArguments.__module__)\n",
    "print(\"TrainingArguments class:\", TrainingArguments)"
   ]
  },
  {
   "cell_type": "code",
   "execution_count": 18,
   "id": "4b47c7cc",
   "metadata": {},
   "outputs": [
    {
     "name": "stderr",
     "output_type": "stream",
     "text": [
      "c:\\Users\\misae\\anaconda3\\envs\\webProject\\Lib\\site-packages\\torch\\utils\\data\\dataloader.py:665: UserWarning: 'pin_memory' argument is set as true but no accelerator is found, then device pinned memory won't be used.\n",
      "  warnings.warn(warn_msg)\n"
     ]
    },
    {
     "data": {
      "text/html": [
       "\n",
       "    <div>\n",
       "      \n",
       "      <progress value='60' max='60' style='width:300px; height:20px; vertical-align: middle;'></progress>\n",
       "      [60/60 01:33, Epoch 15/15]\n",
       "    </div>\n",
       "    <table border=\"1\" class=\"dataframe\">\n",
       "  <thead>\n",
       " <tr style=\"text-align: left;\">\n",
       "      <th>Step</th>\n",
       "      <th>Training Loss</th>\n",
       "    </tr>\n",
       "  </thead>\n",
       "  <tbody>\n",
       "  </tbody>\n",
       "</table><p>"
      ],
      "text/plain": [
       "<IPython.core.display.HTML object>"
      ]
     },
     "metadata": {},
     "output_type": "display_data"
    },
    {
     "data": {
      "text/plain": [
       "('./model_informmativeness\\\\tokenizer_config.json',\n",
       " './model_informmativeness\\\\special_tokens_map.json',\n",
       " './model_informmativeness\\\\vocab.txt',\n",
       " './model_informmativeness\\\\added_tokens.json',\n",
       " './model_informmativeness\\\\tokenizer.json')"
      ]
     },
     "execution_count": 18,
     "metadata": {},
     "output_type": "execute_result"
    }
   ],
   "source": [
    "\n",
    "\n",
    "training_args = TrainingArguments(\n",
    "    output_dir=\"./results_informmativeness\",\n",
    "    num_train_epochs=15,\n",
    "    per_device_train_batch_size=4,\n",
    "    per_device_eval_batch_size=4,\n",
    "    #evaluation_strategy=\"epoch\",\n",
    "    logging_dir=\"./logs\",\n",
    "    learning_rate=2e-5,\n",
    "    weight_decay=0.01,\n",
    "   # save_strategy=\"epoch\"\n",
    ")\n",
    "\n",
    "# addestramento\n",
    "trainer = Trainer(\n",
    "    model=model,\n",
    "    args=training_args,\n",
    "    train_dataset=train_dataset,\n",
    "    eval_dataset=val_dataset\n",
    ")\n",
    "\n",
    "\n",
    "trainer.train()\n",
    "\n",
    "model.save_pretrained(\"./model_informmativeness\")\n",
    "tokenizer.save_pretrained(\"./model_informmativeness\")"
   ]
  },
  {
   "cell_type": "markdown",
   "id": "34c7b907",
   "metadata": {},
   "source": [
    "UTIILIZZO DEL MODELLO ADDESTRATO"
   ]
  },
  {
   "cell_type": "code",
   "execution_count": 19,
   "id": "4e696cb9",
   "metadata": {},
   "outputs": [
    {
     "name": "stderr",
     "output_type": "stream",
     "text": [
      "Device set to use cpu\n"
     ]
    },
    {
     "name": "stdout",
     "output_type": "stream",
     "text": [
      "Review: The camera has 24MP sensor and 4K video at 60fps, ... → INFORMATIVA (0.51)\n",
      "Review: I absolutely love this place! Best ever!!!... → NON INFORMATIVA (0.90)\n",
      "Review: Its a great product, but the customer service was ... → INFORMATIVA (0.96)\n",
      "Review: The product is 7 inch display, 64GB RAM, 1024GB st... → NON INFORMATIVA (0.56)\n",
      "Review: Wow, its amazing... → NON INFORMATIVA (0.90)\n",
      "Review: Ma che schifo... → NON INFORMATIVA (0.80)\n"
     ]
    }
   ],
   "source": [
    "from transformers import pipeline\n",
    "\n",
    "classifier = pipeline(\n",
    "    \"text-classification\",\n",
    "    model = \"./model_informmativeness\",\n",
    "    tokenizer = tokenizer,\n",
    "    function_to_apply = \"softmax\"\n",
    ")\n",
    "\n",
    "\n",
    "#esempri di test\n",
    "\n",
    "reviews = [\n",
    "    \"The camera has 24MP sensor and 4K video at 60fps, but battery lasts only 2 hours\",\n",
    "    \"I absolutely love this place! Best ever!!!\",\n",
    "    \"Its a great product, but the customer service was terrible and I had to wait for weeks to get a response.\",\n",
    "    \"The product is 7 inch display, 64GB RAM, 1024GB storage\",\n",
    "    \"Wow, its amazing\",\n",
    "    \"Ma che schifo\"\n",
    "]\n",
    "\n",
    "\n",
    "\n",
    "results = classifier(reviews)\n",
    "\n",
    "for review, res in zip(reviews, results):\n",
    "    label = \"INFORMATIVA\" if res['label'] == \"LABEL_1\" else \"NON INFORMATIVA\"\n",
    "    print(f\"Review: {review[:50]}... → {label} ({res['score']:.2f})\")\n"
   ]
  },
  {
   "cell_type": "markdown",
   "id": "cdd52ca6",
   "metadata": {},
   "source": [
    "praticamente solo test su review generate a caso"
   ]
  }
 ],
 "metadata": {
  "kernelspec": {
   "display_name": "webProject",
   "language": "python",
   "name": "python3"
  },
  "language_info": {
   "codemirror_mode": {
    "name": "ipython",
    "version": 3
   },
   "file_extension": ".py",
   "mimetype": "text/x-python",
   "name": "python",
   "nbconvert_exporter": "python",
   "pygments_lexer": "ipython3",
   "version": "3.12.11"
  }
 },
 "nbformat": 4,
 "nbformat_minor": 5
}
